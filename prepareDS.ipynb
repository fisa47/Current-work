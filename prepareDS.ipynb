{
 "cells": [
  {
   "cell_type": "code",
   "execution_count": 1,
   "id": "bb34ab46-e8c2-474a-8077-4b96ac086e56",
   "metadata": {},
   "outputs": [],
   "source": [
    "import xarray as xr\n",
    "import numpy as np\n",
    "import glob"
   ]
  },
  {
   "cell_type": "code",
   "execution_count": 8,
   "id": "af1dd6b7-4cba-404f-8841-3c0fc9a7a194",
   "metadata": {},
   "outputs": [],
   "source": [
    "wdir = 'R16-09-2022/z02/'"
   ]
  },
  {
   "cell_type": "code",
   "execution_count": 9,
   "id": "c6678cc0-c300-4d6d-b1f8-bb8a2a61196a",
   "metadata": {},
   "outputs": [],
   "source": [
    "ds = xr.open_mfdataset(wdir + 'ocean_avg*-z0.nc')\n",
    "ds = ds.squeeze()"
   ]
  },
  {
   "cell_type": "code",
   "execution_count": 10,
   "id": "ff64edbc-f2c6-4adb-8d3d-c3b7fedf18ae",
   "metadata": {},
   "outputs": [],
   "source": [
    "variables = ['B_OXYDEP_Oxy', 'B_OXYDEP_Phy', 'B_OXYDEP_Het',\n",
    "             'B_OXYDEP_NUT', 'B_OXYDEP_POM', 'B_OXYDEP_DOM',\n",
    "             'B_BIOPLAST_MP_free', 'B_BIOPLAST_MP_biof', 'B_BIOPLAST_MP_het', 'B_BIOPLAST_MP_det',\n",
    "             'hice', 'temp', 'salt', 'h']"
   ]
  },
  {
   "cell_type": "code",
   "execution_count": 11,
   "id": "130a946f-b51c-4b13-ab04-83195b42b233",
   "metadata": {},
   "outputs": [],
   "source": [
    "ds[variables].to_netcdf('R2out.nc', 'w')"
   ]
  },
  {
   "cell_type": "code",
   "execution_count": 14,
   "id": "5a77ee80-89c3-40a3-b419-268950923683",
   "metadata": {},
   "outputs": [],
   "source": [
    "ds.close()"
   ]
  },
  {
   "cell_type": "code",
   "execution_count": null,
   "id": "76442245-a2c6-43c2-be5f-77e7a40cd679",
   "metadata": {},
   "outputs": [],
   "source": []
  }
 ],
 "metadata": {
  "kernelspec": {
   "display_name": "Python 3 (ipykernel)",
   "language": "python",
   "name": "python3"
  },
  "language_info": {
   "codemirror_mode": {
    "name": "ipython",
    "version": 3
   },
   "file_extension": ".py",
   "mimetype": "text/x-python",
   "name": "python",
   "nbconvert_exporter": "python",
   "pygments_lexer": "ipython3",
   "version": "3.9.6"
  }
 },
 "nbformat": 4,
 "nbformat_minor": 5
}
